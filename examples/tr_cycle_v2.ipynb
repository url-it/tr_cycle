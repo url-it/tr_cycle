{
 "cells": [
  {
   "cell_type": "code",
   "execution_count": null,
   "metadata": {
    "vscode": {
     "languageId": "plaintext"
    }
   },
   "outputs": [],
   "source": [
    "!git clone https://github.com/url-it/Cell_Cycle.git"
   ]
  },
  {
   "cell_type": "code",
   "execution_count": null,
   "metadata": {
    "vscode": {
     "languageId": "plaintext"
    }
   },
   "outputs": [],
   "source": [
    "!git clone https://github.com/url-it/Cell_Cycle.git\n",
    "!cd Cell_Cycle\n",
    "import sys,os\n",
    "sys.path.insert(0,os.path.abspath('bin'))\n",
    "import Cell_Cycle \n",
    "Cell_Cycle.gui"
   ]
  }
 ],
 "metadata": {
  "language_info": {
   "name": "python"
  }
 },
 "nbformat": 4,
 "nbformat_minor": 2
}
